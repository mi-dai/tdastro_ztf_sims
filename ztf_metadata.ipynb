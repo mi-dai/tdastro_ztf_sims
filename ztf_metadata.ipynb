{
 "cells": [
  {
   "cell_type": "code",
   "execution_count": 1,
   "id": "de794af9-6e96-4cf4-b6b7-309c250e992d",
   "metadata": {},
   "outputs": [],
   "source": [
    "import pandas as pd\n",
    "import sqlite3\n",
    "from astropy.io import fits\n",
    "import numpy as np\n",
    "from scipy.optimize import fsolve\n",
    "import glob\n",
    "import matplotlib.pyplot as plt"
   ]
  },
  {
   "cell_type": "code",
   "execution_count": 2,
   "id": "5c6f117f-36f4-4d83-8da6-98e0bfa262a4",
   "metadata": {},
   "outputs": [],
   "source": [
    "def query_db(dbfile='data/ztf_metadata_latest.db',\n",
    "             querystr=''):\n",
    "    # Connect to the database (or create it if it doesn't exist)\n",
    "    connection = sqlite3.connect(dbfile)\n",
    "    cursor = connection.cursor()\n",
    "    \n",
    "    # Execute a SELECT query\n",
    "    cursor.execute(querystr)\n",
    "    \n",
    "    # Fetch all the results\n",
    "    rows = cursor.fetchall()\n",
    "    \n",
    "    # Process the data\n",
    "    # for row in rows:\n",
    "    #     print(row)\n",
    "    \n",
    "    # Close the connection\n",
    "    connection.close()\n",
    "    return rows"
   ]
  },
  {
   "cell_type": "code",
   "execution_count": 3,
   "id": "4dd6cb94-5386-44de-8356-0e7cb2ca2984",
   "metadata": {},
   "outputs": [
    {
     "data": {
      "text/plain": [
       "[('exposures',),\n",
       " ('fields',),\n",
       " ('fields_rtree',),\n",
       " ('fields_rtree_rowid',),\n",
       " ('fields_rtree_node',),\n",
       " ('fields_rtree_parent',),\n",
       " ('refimages',),\n",
       " ('deepimages',),\n",
       " ('fieldcorners',),\n",
       " ('fieldcorners_rtree',),\n",
       " ('fieldcorners_rtree_rowid',),\n",
       " ('fieldcorners_rtree_node',),\n",
       " ('fieldcorners_rtree_parent',)]"
      ]
     },
     "execution_count": 3,
     "metadata": {},
     "output_type": "execute_result"
    }
   ],
   "source": [
    "query = \"SELECT name from sqlite_master WHERE type = 'table'\"\n",
    "res = query_db(querystr=query)\n",
    "res"
   ]
  },
  {
   "cell_type": "code",
   "execution_count": 4,
   "id": "1f4e52c1-3600-4686-bf2e-8f7a7f96a76a",
   "metadata": {},
   "outputs": [
    {
     "data": {
      "text/plain": [
       "[('exposures',),\n",
       " ('fields',),\n",
       " ('fields_rtree',),\n",
       " ('fields_rtree_rowid',),\n",
       " ('fields_rtree_node',),\n",
       " ('fields_rtree_parent',),\n",
       " ('refimages',),\n",
       " ('deepimages',),\n",
       " ('fieldcorners',),\n",
       " ('fieldcorners_rtree',),\n",
       " ('fieldcorners_rtree_rowid',),\n",
       " ('fieldcorners_rtree_node',),\n",
       " ('fieldcorners_rtree_parent',)]"
      ]
     },
     "execution_count": 4,
     "metadata": {},
     "output_type": "execute_result"
    }
   ],
   "source": [
    "query = \"SELECT name from sqlite_master WHERE type = 'table'\"\n",
    "res = query_db(querystr=query)\n",
    "res"
   ]
  },
  {
   "cell_type": "code",
   "execution_count": 5,
   "id": "e09a3867-3155-46ff-acae-445e454ec815",
   "metadata": {},
   "outputs": [
    {
     "data": {
      "text/plain": [
       "['CREATE TABLE exposures (',\n",
       " '    expid integer NOT NULL PRIMARY KEY,                  -- Exposures ID, IPAC Primary Key for exposures (exposure name)',\n",
       " '    field integer NOT NULL,                              -- FITS-header keyword: FIELD, Field Number',\n",
       " '    filter text NOT NULL,                                -- FITS-header keyword: FID, Filter ID',\n",
       " '    obsdate timestamp without time zone NOT NULL,        -- FITS-header keyword: DATE-OBS',\n",
       " '    ra double precision NOT NULL,                        -- FITS-header keyword: RA, Right Ascension pointing',\n",
       " '    dec double precision NOT NULL,                       -- FITS-header keyword: DEC, Declination pointing',\n",
       " '    exptime real NOT NULL,                               -- FITS-header keyword: EXPTIME',\n",
       " '    airmass real NOT NULL,                               -- FITS-header keyword: AIRMASS',\n",
       " '    infobits integer DEFAULT 0,                 -- FITS-header keyword: INFOBITS, Defined by Palomar',\n",
       " '    dr integer,                                          -- ZTF PUBLIC DATA RELEASE NUMBER',\n",
       " '    numsci integer DEFAULT 0,                   -- Number of ProcImages records (sciimg.fits files) with status=1',\n",
       " '    numdiff integer DEFAULT 0,                  -- Number of Subtractions records with status=1',\n",
       " '    fwhm real DEFAULT NULL,                                           -- Median of IMQA Records of Median FWHM of sources in SExtractor catalog [pixels] ',\n",
       " '    maglim real DEFAULT NULL,                                         -- Median of IMQA Records of Magnitude limit of PSF-fit catalog based on semi-empirical formula [mag]',\n",
       " '    scibckgnd real DEFAULT NULL,                                      -- Median of Subtractions Records of Modal background level in science image after gain and background matching (DN)',\n",
       " '    ellip real DEFAULT NULL,                                          -- Median of IMQA Records of Median ellipticity of sources in SExtractor catalog',\n",
       " '    ellippa real DEFAULT NULL                                       -- Median of IMQA Records of Median orientation of source semi-major axes in SExtractor catalog [degrees]',\n",
       " ')']"
      ]
     },
     "execution_count": 5,
     "metadata": {},
     "output_type": "execute_result"
    }
   ],
   "source": [
    "query = \"SELECT * from sqlite_master WHERE name = 'exposures'\"\n",
    "res = query_db(querystr=query)\n",
    "res[0][-1].split('\\n')"
   ]
  },
  {
   "cell_type": "code",
   "execution_count": 6,
   "id": "ee8a4618-31ce-4bb1-8821-5e127d334db5",
   "metadata": {},
   "outputs": [
    {
     "data": {
      "text/plain": [
       "[(0, 'expid', 'INTEGER', 1, None, 1),\n",
       " (1, 'field', 'INTEGER', 1, None, 0),\n",
       " (2, 'filter', 'TEXT', 1, None, 0),\n",
       " (3, 'obsdate', 'timestamp without time zone', 1, None, 0),\n",
       " (4, 'ra', 'double precision', 1, None, 0),\n",
       " (5, 'dec', 'double precision', 1, None, 0),\n",
       " (6, 'exptime', 'REAL', 1, None, 0),\n",
       " (7, 'airmass', 'REAL', 1, None, 0),\n",
       " (8, 'infobits', 'INTEGER', 0, '0', 0),\n",
       " (9, 'dr', 'INTEGER', 0, None, 0),\n",
       " (10, 'numsci', 'INTEGER', 0, '0', 0),\n",
       " (11, 'numdiff', 'INTEGER', 0, '0', 0),\n",
       " (12, 'fwhm', 'REAL', 0, 'NULL', 0),\n",
       " (13, 'maglim', 'REAL', 0, 'NULL', 0),\n",
       " (14, 'scibckgnd', 'REAL', 0, 'NULL', 0),\n",
       " (15, 'ellip', 'REAL', 0, 'NULL', 0),\n",
       " (16, 'ellippa', 'REAL', 0, 'NULL', 0)]"
      ]
     },
     "execution_count": 6,
     "metadata": {},
     "output_type": "execute_result"
    }
   ],
   "source": [
    "query = \"PRAGMA table_info( exposures )\"\n",
    "res = query_db(querystr=query)\n",
    "res"
   ]
  },
  {
   "cell_type": "code",
   "execution_count": 9,
   "id": "aba938d7-594b-42a3-af89-89d5185edb33",
   "metadata": {},
   "outputs": [
    {
     "data": {
      "text/plain": [
       "['CREATE TABLE refimages (',\n",
       " '    rfid bigint NOT NULL PRIMARY KEY,                    -- Reference ID, IPAC Primary key for reference images',\n",
       " '    rcid smallint NOT NULL,                              -- Readout Channel ID, see documentation for rcid layout',\n",
       " '    field integer NOT NULL,',\n",
       " '    filter smallint NOT NULL,                               -- Filter ID',\n",
       " '    created timestamp without time zone NOT NULL,',\n",
       " '    infobits integer DEFAULT 0 NOT NULL',\n",
       " ')']"
      ]
     },
     "execution_count": 9,
     "metadata": {},
     "output_type": "execute_result"
    }
   ],
   "source": [
    "query = \"SELECT * from sqlite_master WHERE name = 'refimages'\"\n",
    "res = query_db(querystr=query)\n",
    "res[0][-1].split('\\n')"
   ]
  },
  {
   "cell_type": "code",
   "execution_count": 7,
   "id": "bdfd5414-565c-4ab5-942d-060b0f7c1e8f",
   "metadata": {
    "scrolled": true
   },
   "outputs": [
    {
     "data": {
      "text/plain": [
       "array([0])"
      ]
     },
     "execution_count": 7,
     "metadata": {},
     "output_type": "execute_result"
    }
   ],
   "source": [
    "query = \"SELECT expid,infobits FROM exposures\"\n",
    "res = query_db(querystr=query)\n",
    "res = pd.DataFrame(res,columns=[\"expid\",\"infobits\"])\n",
    "res.infobits.unique()"
   ]
  },
  {
   "cell_type": "code",
   "execution_count": 264,
   "id": "34a8dc26-983a-4ade-8721-e128df218df4",
   "metadata": {},
   "outputs": [
    {
     "data": {
      "text/plain": [
       "[(231.133166666667, -9.85, 2.252, 30.0, 'g', '2022-08-10 05:16:05.142')]"
      ]
     },
     "execution_count": 264,
     "metadata": {},
     "output_type": "execute_result"
    }
   ],
   "source": [
    "query = \"SELECT ra,dec,airmass,exptime,filter,obsdate FROM exposures where expid=204721950\"\n",
    "res = query_db(querystr=query)\n",
    "res"
   ]
  },
  {
   "cell_type": "code",
   "execution_count": 289,
   "id": "2318c899-5156-4509-b1c7-29a00b51f5a7",
   "metadata": {},
   "outputs": [],
   "source": [
    "query = \"\"\"SELECT expid,scibckgnd,maglim,fwhm FROM exposures \n",
    "           WHERE scibckgnd> (SELECT AVG(scibckgnd) FROM exposures) - 0.001\n",
    "           AND scibckgnd< (SELECT AVG(scibckgnd) FROM exposures) + 0.001\"\"\"\n",
    "res = query_db(querystr=query)"
   ]
  },
  {
   "cell_type": "code",
   "execution_count": 290,
   "id": "5d283fd5-1682-4f2a-b32d-654758521523",
   "metadata": {},
   "outputs": [
    {
     "data": {
      "text/plain": [
       "[(70227210, 189.043, 20.46365, 2.253915),\n",
       " (73722521, 189.0445, 20.69965, 2.186535),\n",
       " (147223675, 189.043, 20.0089, 3.3230000000000004),\n",
       " (196747671, 189.043, 19.87645, 2.1850449999999997),\n",
       " (199634589, 189.0445, 20.492150000000002, 2.570145)]"
      ]
     },
     "execution_count": 290,
     "metadata": {},
     "output_type": "execute_result"
    }
   ],
   "source": [
    "res"
   ]
  },
  {
   "cell_type": "code",
   "execution_count": 202,
   "id": "b1a6b116-6121-4eb8-b379-fef5621fe34d",
   "metadata": {},
   "outputs": [],
   "source": [
    "# mag = -2.5log10(flux) + zp\n",
    "# flux = 10^-0.4(mag-zp)"
   ]
  },
  {
   "cell_type": "code",
   "execution_count": 203,
   "id": "01715d78-49a0-4022-a7d6-104c84786fb0",
   "metadata": {},
   "outputs": [],
   "source": [
    "# snr = flux/fluxerr\n",
    "# fluxerr = sqrt(flux + sky*npix*Gain + readnoise**2*nexposure*npix + darkcurrent*npix*exptime*nexposure + sigma_calib**2) \n",
    "# 5 = flux/fluxerr\n",
    "# 25 = flux**2/(flux + sky*npix*Gain + readnoise**2*nexposure*npix + darkcurrent*npix*exptime*nexposure) \n",
    "# flux**2 - 25*flux -25*( sky*npix*Gain + readnoise**2*nexposure*npix +darkcurrent*npix*exptime*nexposure )= 0\n",
    "# flux = 12.5 + 0.5*sqrt(625 +100( sky*npix*Gain + readnoise**2*nexposure*npix + darkcurrent*npix*exptime*nexposure) )\n",
    "# zp = 2.5log(flux) + maglim"
   ]
  },
  {
   "cell_type": "code",
   "execution_count": 204,
   "id": "29ffeda0-19b4-47e6-96e7-79585eb4e7a4",
   "metadata": {},
   "outputs": [],
   "source": [
    "def fluxeq(flux,sky=None,Gain=None,readnoise=None,nexposure=1,fwhm=None, darkcurrent=None,exptime=None):\n",
    "    npix = 2.266*fwhm**2 #=4*pi*sigma**2=pi/2/ln2 * FWHM**2\n",
    "    y = flux**2 - 25*flux -25*(sky*npix*Gain + readnoise**2*nexposure*npix + darkcurrent*npix*exptime*nexposure)\n",
    "    return y"
   ]
  },
  {
   "cell_type": "code",
   "execution_count": 205,
   "id": "48ea789e-c67c-4cd7-8fbd-2b77657fedb2",
   "metadata": {},
   "outputs": [
    {
     "data": {
      "text/plain": [
       "(3.382285, 19.6376, 333.228, 30.0)"
      ]
     },
     "execution_count": 205,
     "metadata": {},
     "output_type": "execute_result"
    }
   ],
   "source": [
    "fwhm = res[0][12]\n",
    "maglim = res[0][13]\n",
    "sky = res[0][14]\n",
    "exptime = res[0][6]\n",
    "fwhm,maglim,sky,exptime"
   ]
  },
  {
   "cell_type": "code",
   "execution_count": 220,
   "id": "fdff8ce4-7fac-41b7-9e39-bcbd12ebf8d3",
   "metadata": {},
   "outputs": [],
   "source": [
    "#from FITS file header\n",
    "ZPAVG = 26.137739 #/ Mag zero point from average of mag diffs [mag]\n",
    "MAGZP = 26.161633 #/ Magnitude zero point for PSF-photometry [mag]  \n",
    "MAGLIM = 19.81\n",
    "GAIN = 6.2 #/ Gain e-/adu                                    \n",
    "READNOI = 10. #/ Read noise e-                                  \n",
    "DARKCUR = 1. #/ Dark current e-/s @ 150 K  \n",
    "EXPID = 44825324\n",
    "AIRMASS = 1.63 #/ Airmass (Hardie)     \n",
    "FILTERID=  1 #/ Filter ID code                                 \n",
    "FILTER = 'ZTF g   '  #/ Filter name     \n",
    "SEEING = 3.305 #/ seeing FWHM [pixels] "
   ]
  },
  {
   "cell_type": "code",
   "execution_count": 221,
   "id": "11355d6b-e58d-4199-a2ab-52a4042a2622",
   "metadata": {},
   "outputs": [],
   "source": [
    "root = fsolve(lambda x: fluxeq(x,sky=sky,Gain=GAIN,readnoise=READNOI,fwhm=fwhm,darkcurrent=DARKCUR,exptime=exptime), [100])"
   ]
  },
  {
   "cell_type": "code",
   "execution_count": 222,
   "id": "5696f910-4fb0-44a7-80c8-9aac54928442",
   "metadata": {},
   "outputs": [
    {
     "data": {
      "text/plain": [
       "array([25.35956619])"
      ]
     },
     "execution_count": 222,
     "metadata": {},
     "output_type": "execute_result"
    }
   ],
   "source": [
    "zp = 2.5*np.log10(root/GAIN) + maglim\n",
    "zp"
   ]
  },
  {
   "cell_type": "code",
   "execution_count": 249,
   "id": "8bc15412-25ec-4bf9-8e48-43517a867ad8",
   "metadata": {},
   "outputs": [],
   "source": [
    "def cal_zp(exposure_id, GAIN=6.2,READNOI=10.,DARKCUR=1.,maglim=None,fwhm=None):\n",
    "    query = f\"SELECT * FROM exposures where expid={exposure_id}\"\n",
    "    res = query_db(querystr=query)\n",
    "    if fwhm is None:\n",
    "        fwhm = res[0][12]\n",
    "    if maglim is None:\n",
    "        maglim = res[0][13]\n",
    "    sky = res[0][14]\n",
    "    exptime = res[0][6]\n",
    "    root = fsolve(lambda x: fluxeq(x,sky=sky,Gain=GAIN,readnoise=READNOI,\n",
    "                                   fwhm=fwhm,darkcurrent=DARKCUR,exptime=exptime), [500])\n",
    "    zp = 2.5*np.log10(root/GAIN) + maglim\n",
    "\n",
    "    npix = 2.266*fwhm**2\n",
    "    root2 = 12.5 + 2.5 * np.sqrt(25. + 4.*(sky*npix*GAIN + READNOI**2*npix + DARKCUR*npix*exptime))\n",
    "    zp2 = 2.5*np.log10(root2/GAIN) + maglim\n",
    "\n",
    "    print(\"maglim,fwhm,sky:\",maglim,fwhm,sky,exposure_id)\n",
    "    print(zp,zp2)\n",
    "    return zp[0]"
   ]
  },
  {
   "cell_type": "code",
   "execution_count": 250,
   "id": "a7314c83-32c6-4375-a992-7c0e49631f2d",
   "metadata": {},
   "outputs": [],
   "source": [
    "def get_single_fits_header(fname):\n",
    "    hdu = fits.open(fname)\n",
    "    h = hdu[0].header \n",
    "    colname = ['GAIN','READNOI','DARKCUR','MAGLIM','SEEING','EXPID','MAGZP','ZPAVG','OBSMJD']\n",
    "    coldict = {}\n",
    "    for col in colname:\n",
    "        coldict[col]=h[col]\n",
    "    return coldict"
   ]
  },
  {
   "cell_type": "code",
   "execution_count": 251,
   "id": "c021dc91-1633-4bde-b6ca-2a4d4173cf9d",
   "metadata": {},
   "outputs": [],
   "source": [
    "dlist = []\n",
    "for f in glob.glob('ztf_images/*.fits'):\n",
    "    dlist.append(get_single_fits_header(f))\n",
    "header_info = pd.DataFrame(dlist)"
   ]
  },
  {
   "cell_type": "code",
   "execution_count": 252,
   "id": "3a16ead1-a8d4-42d0-8781-a92343ac9d9d",
   "metadata": {},
   "outputs": [
    {
     "data": {
      "text/html": [
       "<div>\n",
       "<style scoped>\n",
       "    .dataframe tbody tr th:only-of-type {\n",
       "        vertical-align: middle;\n",
       "    }\n",
       "\n",
       "    .dataframe tbody tr th {\n",
       "        vertical-align: top;\n",
       "    }\n",
       "\n",
       "    .dataframe thead th {\n",
       "        text-align: right;\n",
       "    }\n",
       "</style>\n",
       "<table border=\"1\" class=\"dataframe\">\n",
       "  <thead>\n",
       "    <tr style=\"text-align: right;\">\n",
       "      <th></th>\n",
       "      <th>GAIN</th>\n",
       "      <th>READNOI</th>\n",
       "      <th>DARKCUR</th>\n",
       "      <th>MAGLIM</th>\n",
       "      <th>SEEING</th>\n",
       "      <th>EXPID</th>\n",
       "      <th>MAGZP</th>\n",
       "      <th>ZPAVG</th>\n",
       "      <th>OBSMJD</th>\n",
       "    </tr>\n",
       "  </thead>\n",
       "  <tbody>\n",
       "    <tr>\n",
       "      <th>0</th>\n",
       "      <td>6.1</td>\n",
       "      <td>9.1</td>\n",
       "      <td>1.0</td>\n",
       "      <td>21.69</td>\n",
       "      <td>1.716</td>\n",
       "      <td>191636034</td>\n",
       "      <td>26.111347</td>\n",
       "      <td>26.180340</td>\n",
       "      <td>59670.360347</td>\n",
       "    </tr>\n",
       "    <tr>\n",
       "      <th>1</th>\n",
       "      <td>6.1</td>\n",
       "      <td>9.1</td>\n",
       "      <td>1.0</td>\n",
       "      <td>20.25</td>\n",
       "      <td>1.727</td>\n",
       "      <td>131915505</td>\n",
       "      <td>25.434052</td>\n",
       "      <td>25.509272</td>\n",
       "      <td>59073.155058</td>\n",
       "    </tr>\n",
       "    <tr>\n",
       "      <th>2</th>\n",
       "      <td>6.1</td>\n",
       "      <td>9.1</td>\n",
       "      <td>1.0</td>\n",
       "      <td>21.28</td>\n",
       "      <td>1.893</td>\n",
       "      <td>109516991</td>\n",
       "      <td>26.159958</td>\n",
       "      <td>26.235765</td>\n",
       "      <td>58849.169919</td>\n",
       "    </tr>\n",
       "    <tr>\n",
       "      <th>3</th>\n",
       "      <td>6.1</td>\n",
       "      <td>9.1</td>\n",
       "      <td>1.0</td>\n",
       "      <td>21.20</td>\n",
       "      <td>2.109</td>\n",
       "      <td>124116407</td>\n",
       "      <td>26.193658</td>\n",
       "      <td>26.158520</td>\n",
       "      <td>58995.164074</td>\n",
       "    </tr>\n",
       "    <tr>\n",
       "      <th>4</th>\n",
       "      <td>6.1</td>\n",
       "      <td>9.1</td>\n",
       "      <td>1.0</td>\n",
       "      <td>21.00</td>\n",
       "      <td>1.526</td>\n",
       "      <td>109507708</td>\n",
       "      <td>26.156597</td>\n",
       "      <td>26.213345</td>\n",
       "      <td>58849.077083</td>\n",
       "    </tr>\n",
       "    <tr>\n",
       "      <th>5</th>\n",
       "      <td>6.1</td>\n",
       "      <td>9.1</td>\n",
       "      <td>1.0</td>\n",
       "      <td>21.49</td>\n",
       "      <td>3.670</td>\n",
       "      <td>111225071</td>\n",
       "      <td>28.695676</td>\n",
       "      <td>28.645560</td>\n",
       "      <td>58866.250718</td>\n",
       "    </tr>\n",
       "    <tr>\n",
       "      <th>6</th>\n",
       "      <td>6.1</td>\n",
       "      <td>9.1</td>\n",
       "      <td>1.0</td>\n",
       "      <td>20.86</td>\n",
       "      <td>3.514</td>\n",
       "      <td>109508552</td>\n",
       "      <td>26.307774</td>\n",
       "      <td>26.212914</td>\n",
       "      <td>58849.085521</td>\n",
       "    </tr>\n",
       "    <tr>\n",
       "      <th>7</th>\n",
       "      <td>6.1</td>\n",
       "      <td>9.1</td>\n",
       "      <td>1.0</td>\n",
       "      <td>20.96</td>\n",
       "      <td>2.079</td>\n",
       "      <td>131917035</td>\n",
       "      <td>26.129401</td>\n",
       "      <td>26.201074</td>\n",
       "      <td>59073.170359</td>\n",
       "    </tr>\n",
       "    <tr>\n",
       "      <th>8</th>\n",
       "      <td>6.1</td>\n",
       "      <td>9.1</td>\n",
       "      <td>1.0</td>\n",
       "      <td>19.56</td>\n",
       "      <td>2.372</td>\n",
       "      <td>187110479</td>\n",
       "      <td>26.098978</td>\n",
       "      <td>26.195360</td>\n",
       "      <td>59625.104792</td>\n",
       "    </tr>\n",
       "    <tr>\n",
       "      <th>9</th>\n",
       "      <td>6.1</td>\n",
       "      <td>9.1</td>\n",
       "      <td>1.0</td>\n",
       "      <td>20.98</td>\n",
       "      <td>1.538</td>\n",
       "      <td>109507943</td>\n",
       "      <td>26.165938</td>\n",
       "      <td>26.219344</td>\n",
       "      <td>58849.079433</td>\n",
       "    </tr>\n",
       "    <tr>\n",
       "      <th>10</th>\n",
       "      <td>6.1</td>\n",
       "      <td>9.1</td>\n",
       "      <td>1.0</td>\n",
       "      <td>19.65</td>\n",
       "      <td>2.706</td>\n",
       "      <td>113109947</td>\n",
       "      <td>26.048006</td>\n",
       "      <td>26.012514</td>\n",
       "      <td>58885.099479</td>\n",
       "    </tr>\n",
       "    <tr>\n",
       "      <th>11</th>\n",
       "      <td>6.1</td>\n",
       "      <td>9.1</td>\n",
       "      <td>1.0</td>\n",
       "      <td>21.63</td>\n",
       "      <td>1.821</td>\n",
       "      <td>109510564</td>\n",
       "      <td>26.261643</td>\n",
       "      <td>26.217982</td>\n",
       "      <td>58849.105648</td>\n",
       "    </tr>\n",
       "    <tr>\n",
       "      <th>12</th>\n",
       "      <td>6.1</td>\n",
       "      <td>8.8</td>\n",
       "      <td>1.0</td>\n",
       "      <td>21.31</td>\n",
       "      <td>2.152</td>\n",
       "      <td>124116407</td>\n",
       "      <td>26.162795</td>\n",
       "      <td>26.099381</td>\n",
       "      <td>58995.164074</td>\n",
       "    </tr>\n",
       "    <tr>\n",
       "      <th>13</th>\n",
       "      <td>6.1</td>\n",
       "      <td>9.1</td>\n",
       "      <td>1.0</td>\n",
       "      <td>21.41</td>\n",
       "      <td>1.852</td>\n",
       "      <td>109513274</td>\n",
       "      <td>26.218998</td>\n",
       "      <td>26.177992</td>\n",
       "      <td>58849.132743</td>\n",
       "    </tr>\n",
       "    <tr>\n",
       "      <th>14</th>\n",
       "      <td>6.1</td>\n",
       "      <td>9.1</td>\n",
       "      <td>1.0</td>\n",
       "      <td>20.64</td>\n",
       "      <td>5.252</td>\n",
       "      <td>111229718</td>\n",
       "      <td>28.607244</td>\n",
       "      <td>28.574847</td>\n",
       "      <td>58866.297188</td>\n",
       "    </tr>\n",
       "    <tr>\n",
       "      <th>15</th>\n",
       "      <td>6.1</td>\n",
       "      <td>8.6</td>\n",
       "      <td>1.0</td>\n",
       "      <td>19.87</td>\n",
       "      <td>2.149</td>\n",
       "      <td>196648274</td>\n",
       "      <td>26.097433</td>\n",
       "      <td>26.167051</td>\n",
       "      <td>59720.482743</td>\n",
       "    </tr>\n",
       "    <tr>\n",
       "      <th>16</th>\n",
       "      <td>6.2</td>\n",
       "      <td>8.9</td>\n",
       "      <td>1.0</td>\n",
       "      <td>20.76</td>\n",
       "      <td>1.926</td>\n",
       "      <td>196646983</td>\n",
       "      <td>26.209090</td>\n",
       "      <td>26.253564</td>\n",
       "      <td>59720.469838</td>\n",
       "    </tr>\n",
       "    <tr>\n",
       "      <th>17</th>\n",
       "      <td>6.1</td>\n",
       "      <td>9.1</td>\n",
       "      <td>1.0</td>\n",
       "      <td>19.52</td>\n",
       "      <td>3.297</td>\n",
       "      <td>200017728</td>\n",
       "      <td>26.084036</td>\n",
       "      <td>26.163709</td>\n",
       "      <td>59754.177280</td>\n",
       "    </tr>\n",
       "    <tr>\n",
       "      <th>18</th>\n",
       "      <td>6.1</td>\n",
       "      <td>9.1</td>\n",
       "      <td>1.0</td>\n",
       "      <td>19.96</td>\n",
       "      <td>2.811</td>\n",
       "      <td>113110746</td>\n",
       "      <td>26.102741</td>\n",
       "      <td>26.093737</td>\n",
       "      <td>58885.107465</td>\n",
       "    </tr>\n",
       "    <tr>\n",
       "      <th>19</th>\n",
       "      <td>6.1</td>\n",
       "      <td>9.1</td>\n",
       "      <td>1.0</td>\n",
       "      <td>21.00</td>\n",
       "      <td>1.609</td>\n",
       "      <td>109507754</td>\n",
       "      <td>26.147603</td>\n",
       "      <td>26.204815</td>\n",
       "      <td>58849.077546</td>\n",
       "    </tr>\n",
       "  </tbody>\n",
       "</table>\n",
       "</div>"
      ],
      "text/plain": [
       "    GAIN  READNOI  DARKCUR  MAGLIM  SEEING      EXPID      MAGZP      ZPAVG  \\\n",
       "0    6.1      9.1      1.0   21.69   1.716  191636034  26.111347  26.180340   \n",
       "1    6.1      9.1      1.0   20.25   1.727  131915505  25.434052  25.509272   \n",
       "2    6.1      9.1      1.0   21.28   1.893  109516991  26.159958  26.235765   \n",
       "3    6.1      9.1      1.0   21.20   2.109  124116407  26.193658  26.158520   \n",
       "4    6.1      9.1      1.0   21.00   1.526  109507708  26.156597  26.213345   \n",
       "5    6.1      9.1      1.0   21.49   3.670  111225071  28.695676  28.645560   \n",
       "6    6.1      9.1      1.0   20.86   3.514  109508552  26.307774  26.212914   \n",
       "7    6.1      9.1      1.0   20.96   2.079  131917035  26.129401  26.201074   \n",
       "8    6.1      9.1      1.0   19.56   2.372  187110479  26.098978  26.195360   \n",
       "9    6.1      9.1      1.0   20.98   1.538  109507943  26.165938  26.219344   \n",
       "10   6.1      9.1      1.0   19.65   2.706  113109947  26.048006  26.012514   \n",
       "11   6.1      9.1      1.0   21.63   1.821  109510564  26.261643  26.217982   \n",
       "12   6.1      8.8      1.0   21.31   2.152  124116407  26.162795  26.099381   \n",
       "13   6.1      9.1      1.0   21.41   1.852  109513274  26.218998  26.177992   \n",
       "14   6.1      9.1      1.0   20.64   5.252  111229718  28.607244  28.574847   \n",
       "15   6.1      8.6      1.0   19.87   2.149  196648274  26.097433  26.167051   \n",
       "16   6.2      8.9      1.0   20.76   1.926  196646983  26.209090  26.253564   \n",
       "17   6.1      9.1      1.0   19.52   3.297  200017728  26.084036  26.163709   \n",
       "18   6.1      9.1      1.0   19.96   2.811  113110746  26.102741  26.093737   \n",
       "19   6.1      9.1      1.0   21.00   1.609  109507754  26.147603  26.204815   \n",
       "\n",
       "          OBSMJD  \n",
       "0   59670.360347  \n",
       "1   59073.155058  \n",
       "2   58849.169919  \n",
       "3   58995.164074  \n",
       "4   58849.077083  \n",
       "5   58866.250718  \n",
       "6   58849.085521  \n",
       "7   59073.170359  \n",
       "8   59625.104792  \n",
       "9   58849.079433  \n",
       "10  58885.099479  \n",
       "11  58849.105648  \n",
       "12  58995.164074  \n",
       "13  58849.132743  \n",
       "14  58866.297188  \n",
       "15  59720.482743  \n",
       "16  59720.469838  \n",
       "17  59754.177280  \n",
       "18  58885.107465  \n",
       "19  58849.077546  "
      ]
     },
     "execution_count": 252,
     "metadata": {},
     "output_type": "execute_result"
    }
   ],
   "source": [
    "header_info"
   ]
  },
  {
   "cell_type": "code",
   "execution_count": 253,
   "id": "ae77b008-75b7-46bf-8037-511893175ce7",
   "metadata": {
    "scrolled": true
   },
   "outputs": [
    {
     "name": "stdout",
     "output_type": "stream",
     "text": [
      "maglim,fwhm,sky: 21.69 1.906275 250.272 191636034.0\n",
      "[26.65623029] 26.656230294073413\n",
      "maglim,fwhm,sky: 20.25 1.45972 216.27550000000002 131915505.0\n",
      "[24.86288038] 24.86288038216208\n",
      "maglim,fwhm,sky: 21.28 1.855265 222.126 109516991.0\n",
      "[26.15927506] 26.159275055597682\n",
      "maglim,fwhm,sky: 21.2 1.9122249999999998 93.63300000000001 124116407.0\n",
      "[25.71421155] 25.714211554453033\n",
      "maglim,fwhm,sky: 21.0 1.63771 224.9 109507708.0\n",
      "[25.75317666] 25.753176661019243\n",
      "maglim,fwhm,sky: 21.49 3.901435 1258.4850000000001 111225071.0\n",
      "[28.07612457] 28.07612456956872\n",
      "maglim,fwhm,sky: 20.86 2.04033 120.621 109508552.0\n",
      "[25.55387145] 25.553871445783006\n",
      "maglim,fwhm,sky: 20.96 2.0795500000000002 177.1635 131917035.0\n",
      "[25.85186236] 25.851862360533183\n",
      "maglim,fwhm,sky: 19.56 2.5854299999999997 151.01049999999998 187110479.0\n",
      "[24.60804116] 24.60804115814153\n",
      "maglim,fwhm,sky: 20.98 1.49583 291.742 109507943.0\n",
      "[25.76451673] 25.7645167252947\n",
      "maglim,fwhm,sky: 19.65 2.937265 84.12025 113109947.0\n",
      "[24.57185772] 24.571857716113755\n",
      "maglim,fwhm,sky: 21.63 1.729705 99.72885 109510564.0\n",
      "[26.06615957] 26.06615957016011\n",
      "maglim,fwhm,sky: 21.31 1.9122249999999998 93.63300000000001 124116407.0\n",
      "[25.82421155] 25.824211554453033\n",
      "maglim,fwhm,sky: 21.41 1.87296 136.098 109513274.0\n",
      "[26.06828023] 26.068280228016448\n",
      "maglim,fwhm,sky: 20.64 5.548735000000001 1157.8600000000001 111229718.0\n",
      "[27.56423417] 27.56423417241887\n",
      "maglim,fwhm,sky: 19.87 1.85694 171.623 196648274.0\n",
      "[24.62689716] 24.626897157143844\n",
      "maglim,fwhm,sky: 20.76 1.758385 309.7965 196646983.0\n",
      "[25.74583639] 25.745836389391854\n",
      "maglim,fwhm,sky: 19.52 3.3757099999999998 157.219 200017728.0\n",
      "[24.87158749] 24.871587487318095\n",
      "maglim,fwhm,sky: 19.96 2.5382949999999997 93.91405 113110746.0\n",
      "[24.77429457] 24.774294571400723\n",
      "maglim,fwhm,sky: 21.0 1.60966 219.44299999999998 109507754.0\n",
      "[25.72304987] 25.723049869536748\n"
     ]
    },
    {
     "data": {
      "text/plain": [
       "[26.656230294073413,\n",
       " 24.862880382162082,\n",
       " 26.159275055597682,\n",
       " 25.714211554453033,\n",
       " 25.753176661019243,\n",
       " 28.07612456956872,\n",
       " 25.553871445783006,\n",
       " 25.851862360533183,\n",
       " 24.60804115814153,\n",
       " 25.7645167252947,\n",
       " 24.57185771611375,\n",
       " 26.06615957016011,\n",
       " 25.824211554453033,\n",
       " 26.068280228016448,\n",
       " 27.56423417241887,\n",
       " 24.626897157143844,\n",
       " 25.745836389391854,\n",
       " 24.871587487318095,\n",
       " 24.774294571400723,\n",
       " 25.723049869536815]"
      ]
     },
     "execution_count": 253,
     "metadata": {},
     "output_type": "execute_result"
    }
   ],
   "source": [
    "zplist = []\n",
    "for i,row in header_info.iterrows():\n",
    "    zplist.append(cal_zp(row['EXPID'],\n",
    "                         maglim=row['MAGLIM'],fwhm=None))\n",
    "zplist"
   ]
  },
  {
   "cell_type": "code",
   "execution_count": 239,
   "id": "644cf142-4e3b-44c5-afc7-fde01882b01c",
   "metadata": {
    "scrolled": true
   },
   "outputs": [
    {
     "data": {
      "text/plain": [
       "[<matplotlib.lines.Line2D at 0x16d92b7d0>]"
      ]
     },
     "execution_count": 239,
     "metadata": {},
     "output_type": "execute_result"
    },
    {
     "data": {
      "image/png": "[encoded data removed]",
      "text/plain": [
       "<Figure size 640x480 with 1 Axes>"
      ]
     },
     "metadata": {},
     "output_type": "display_data"
    }
   ],
   "source": [
    "plt.plot(header_info['MAGZP'].values,np.array(zplist)-header_info['MAGZP'].values,'o')\n"
   ]
  },
  {
   "cell_type": "code",
   "execution_count": null,
   "id": "d434590f-bdf1-46f8-904e-a93123e77c1a",
   "metadata": {},
   "outputs": [],
   "source": []
  },
  {
   "cell_type": "code",
   "execution_count": null,
   "id": "6805b574-7be1-47bf-bf20-d45200daa0f8",
   "metadata": {},
   "outputs": [],
   "source": []
  }
 ],
 "metadata": {
  "kernelspec": {
   "display_name": "tdastro",
   "language": "python",
   "name": "tdastro"
  },
  "language_info": {
   "codemirror_mode": {
    "name": "ipython",
    "version": 3
   },
   "file_extension": ".py",
   "mimetype": "text/x-python",
   "name": "python",
   "nbconvert_exporter": "python",
   "pygments_lexer": "ipython3",
   "version": "3.11.9"
  }
 },
 "nbformat": 4,
 "nbformat_minor": 5
}
