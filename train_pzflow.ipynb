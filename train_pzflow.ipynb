{
 "cells": [
  {
   "cell_type": "markdown",
   "id": "98025990-b4ef-4a3a-87ba-19823daf22a8",
   "metadata": {},
   "source": [
    "adapt from https://github.com/LSSTDESC/transient-host-sims/blob/main/notebooks/SCOTCH_walkthroughs.ipynb\n",
    "and https://github.com/LSSTDESC/transient-host-sims/blob/main/notebooks/pzflow_DC2_conditionalFlow_finalCut.ipynb\n",
    "and https://jfcrenshaw.github.io/pzflow/tutorials/intro/"
   ]
  },
  {
   "cell_type": "code",
   "execution_count": 1,
   "id": "c8af0983-71e9-4540-8ed8-be623beb596e",
   "metadata": {},
   "outputs": [],
   "source": [
    "# import jax\n",
    "# jax.default_backend()\n",
    "# import os\n",
    "# os.environ[\"JAX_PLATFORM_NAME\"] = \"cpu\""
   ]
  },
  {
   "cell_type": "code",
   "execution_count": 2,
   "id": "6ed04bd7-b7c7-4795-a8f5-c4122336c7b5",
   "metadata": {},
   "outputs": [],
   "source": [
    "import pandas as pd\n",
    "import numpy as np\n",
    "import pzflow\n",
    "from pzflow import Flow\n",
    "from pzflow.bijectors import Chain, ColorTransform, InvSoftplus, StandardScaler, RollingSplineCoupling\n",
    "# from pzflow.examples import galaxy_data\n",
    "from pzflow.distributions import Uniform, Joint, Normal\n",
    "import matplotlib.pyplot as plt\n",
    "from scipy.interpolate import interp1d\n",
    "from scipy.stats.sampling import NumericalInversePolynomial"
   ]
  },
  {
   "cell_type": "code",
   "execution_count": 3,
   "id": "15a2ffd2-d2ec-49b8-9587-01dfa3e8c9da",
   "metadata": {},
   "outputs": [],
   "source": [
    "globalhostdata = pd.read_csv('ztfsniadr2/tables/globalhost_data.csv')\n",
    "localhostdata = pd.read_csv('ztfsniadr2/tables/localhost_data.csv')\n",
    "sndata = pd.read_csv('ztfsniadr2/tables/snia_data.csv')"
   ]
  },
  {
   "cell_type": "code",
   "execution_count": 4,
   "id": "1ec6daee-5be0-4f64-b27a-25f9a3cd9514",
   "metadata": {
    "scrolled": true
   },
   "outputs": [
    {
     "data": {
      "text/html": [
       "<div>\n",
       "<style scoped>\n",
       "    .dataframe tbody tr th:only-of-type {\n",
       "        vertical-align: middle;\n",
       "    }\n",
       "\n",
       "    .dataframe tbody tr th {\n",
       "        vertical-align: top;\n",
       "    }\n",
       "\n",
       "    .dataframe thead th {\n",
       "        text-align: right;\n",
       "    }\n",
       "</style>\n",
       "<table border=\"1\" class=\"dataframe\">\n",
       "  <thead>\n",
       "    <tr style=\"text-align: right;\">\n",
       "      <th></th>\n",
       "      <th>ztfname</th>\n",
       "      <th>ra_host</th>\n",
       "      <th>dec_host</th>\n",
       "      <th>mass</th>\n",
       "      <th>mass_err</th>\n",
       "      <th>restframe_gz</th>\n",
       "      <th>restframe_gz_err</th>\n",
       "      <th>d_dlr</th>\n",
       "    </tr>\n",
       "  </thead>\n",
       "  <tbody>\n",
       "    <tr>\n",
       "      <th>0</th>\n",
       "      <td>ZTF17aadlxmv</td>\n",
       "      <td>127.448161</td>\n",
       "      <td>33.906468</td>\n",
       "      <td>10.424</td>\n",
       "      <td>0.116619</td>\n",
       "      <td>1.061697</td>\n",
       "      <td>0.018439</td>\n",
       "      <td>0.083759</td>\n",
       "    </tr>\n",
       "    <tr>\n",
       "      <th>1</th>\n",
       "      <td>ZTF18aaadqua</td>\n",
       "      <td>NaN</td>\n",
       "      <td>NaN</td>\n",
       "      <td>NaN</td>\n",
       "      <td>NaN</td>\n",
       "      <td>NaN</td>\n",
       "      <td>NaN</td>\n",
       "      <td>NaN</td>\n",
       "    </tr>\n",
       "    <tr>\n",
       "      <th>2</th>\n",
       "      <td>ZTF18aaanzph</td>\n",
       "      <td>157.746954</td>\n",
       "      <td>23.788548</td>\n",
       "      <td>10.996</td>\n",
       "      <td>0.123223</td>\n",
       "      <td>1.351697</td>\n",
       "      <td>0.018439</td>\n",
       "      <td>1.698443</td>\n",
       "    </tr>\n",
       "    <tr>\n",
       "      <th>3</th>\n",
       "      <td>ZTF18aaapivw</td>\n",
       "      <td>102.564481</td>\n",
       "      <td>27.141323</td>\n",
       "      <td>8.515</td>\n",
       "      <td>0.103325</td>\n",
       "      <td>0.591697</td>\n",
       "      <td>0.046861</td>\n",
       "      <td>2.969719</td>\n",
       "    </tr>\n",
       "    <tr>\n",
       "      <th>4</th>\n",
       "      <td>ZTF18aaaqexr</td>\n",
       "      <td>175.776562</td>\n",
       "      <td>15.566957</td>\n",
       "      <td>10.774</td>\n",
       "      <td>0.117661</td>\n",
       "      <td>1.211697</td>\n",
       "      <td>0.018439</td>\n",
       "      <td>0.102694</td>\n",
       "    </tr>\n",
       "  </tbody>\n",
       "</table>\n",
       "</div>"
      ],
      "text/plain": [
       "        ztfname     ra_host   dec_host    mass  mass_err  restframe_gz  \\\n",
       "0  ZTF17aadlxmv  127.448161  33.906468  10.424  0.116619      1.061697   \n",
       "1  ZTF18aaadqua         NaN        NaN     NaN       NaN           NaN   \n",
       "2  ZTF18aaanzph  157.746954  23.788548  10.996  0.123223      1.351697   \n",
       "3  ZTF18aaapivw  102.564481  27.141323   8.515  0.103325      0.591697   \n",
       "4  ZTF18aaaqexr  175.776562  15.566957  10.774  0.117661      1.211697   \n",
       "\n",
       "   restframe_gz_err     d_dlr  \n",
       "0          0.018439  0.083759  \n",
       "1               NaN       NaN  \n",
       "2          0.018439  1.698443  \n",
       "3          0.046861  2.969719  \n",
       "4          0.018439  0.102694  "
      ]
     },
     "execution_count": 4,
     "metadata": {},
     "output_type": "execute_result"
    }
   ],
   "source": [
    "globalhostdata.head()"
   ]
  },
  {
   "cell_type": "code",
   "execution_count": 5,
   "id": "53046327-da0f-4f55-9011-69b8d8acf917",
   "metadata": {},
   "outputs": [
    {
     "data": {
      "text/html": [
       "<div>\n",
       "<style scoped>\n",
       "    .dataframe tbody tr th:only-of-type {\n",
       "        vertical-align: middle;\n",
       "    }\n",
       "\n",
       "    .dataframe tbody tr th {\n",
       "        vertical-align: top;\n",
       "    }\n",
       "\n",
       "    .dataframe thead th {\n",
       "        text-align: right;\n",
       "    }\n",
       "</style>\n",
       "<table border=\"1\" class=\"dataframe\">\n",
       "  <thead>\n",
       "    <tr style=\"text-align: right;\">\n",
       "      <th></th>\n",
       "      <th>ztfname</th>\n",
       "      <th>mass</th>\n",
       "      <th>mass_err</th>\n",
       "      <th>restframe_gz</th>\n",
       "      <th>restframe_gz_err</th>\n",
       "    </tr>\n",
       "  </thead>\n",
       "  <tbody>\n",
       "    <tr>\n",
       "      <th>0</th>\n",
       "      <td>ZTF17aadlxmv</td>\n",
       "      <td>10.001</td>\n",
       "      <td>0.025</td>\n",
       "      <td>1.218697</td>\n",
       "      <td>0.017029</td>\n",
       "    </tr>\n",
       "    <tr>\n",
       "      <th>1</th>\n",
       "      <td>ZTF18aaadqua</td>\n",
       "      <td>6.743</td>\n",
       "      <td>0.344</td>\n",
       "      <td>0.321697</td>\n",
       "      <td>1.289935</td>\n",
       "    </tr>\n",
       "    <tr>\n",
       "      <th>2</th>\n",
       "      <td>ZTF18aaanzph</td>\n",
       "      <td>8.344</td>\n",
       "      <td>0.168</td>\n",
       "      <td>1.287697</td>\n",
       "      <td>0.500016</td>\n",
       "    </tr>\n",
       "    <tr>\n",
       "      <th>3</th>\n",
       "      <td>ZTF18aaapivw</td>\n",
       "      <td>7.507</td>\n",
       "      <td>0.092</td>\n",
       "      <td>0.607697</td>\n",
       "      <td>0.336146</td>\n",
       "    </tr>\n",
       "    <tr>\n",
       "      <th>4</th>\n",
       "      <td>ZTF18aaaqexr</td>\n",
       "      <td>10.727</td>\n",
       "      <td>0.065</td>\n",
       "      <td>1.313697</td>\n",
       "      <td>0.017692</td>\n",
       "    </tr>\n",
       "  </tbody>\n",
       "</table>\n",
       "</div>"
      ],
      "text/plain": [
       "        ztfname    mass  mass_err  restframe_gz  restframe_gz_err\n",
       "0  ZTF17aadlxmv  10.001     0.025      1.218697          0.017029\n",
       "1  ZTF18aaadqua   6.743     0.344      0.321697          1.289935\n",
       "2  ZTF18aaanzph   8.344     0.168      1.287697          0.500016\n",
       "3  ZTF18aaapivw   7.507     0.092      0.607697          0.336146\n",
       "4  ZTF18aaaqexr  10.727     0.065      1.313697          0.017692"
      ]
     },
     "execution_count": 5,
     "metadata": {},
     "output_type": "execute_result"
    }
   ],
   "source": [
    "localhostdata.head()"
   ]
  },
  {
   "cell_type": "code",
   "execution_count": 6,
   "id": "71c630f9-1b02-44c8-9c54-0ea34e433128",
   "metadata": {},
   "outputs": [
    {
     "data": {
      "text/html": [
       "<div>\n",
       "<style scoped>\n",
       "    .dataframe tbody tr th:only-of-type {\n",
       "        vertical-align: middle;\n",
       "    }\n",
       "\n",
       "    .dataframe tbody tr th {\n",
       "        vertical-align: top;\n",
       "    }\n",
       "\n",
       "    .dataframe thead th {\n",
       "        text-align: right;\n",
       "    }\n",
       "</style>\n",
       "<table border=\"1\" class=\"dataframe\">\n",
       "  <thead>\n",
       "    <tr style=\"text-align: right;\">\n",
       "      <th></th>\n",
       "      <th>Unnamed: 0</th>\n",
       "      <th>ztfname</th>\n",
       "      <th>redshift</th>\n",
       "      <th>redshift_err</th>\n",
       "      <th>source</th>\n",
       "      <th>t0</th>\n",
       "      <th>x0</th>\n",
       "      <th>x1</th>\n",
       "      <th>c</th>\n",
       "      <th>t0_err</th>\n",
       "      <th>...</th>\n",
       "      <th>mwebv_err</th>\n",
       "      <th>fitprob</th>\n",
       "      <th>ra</th>\n",
       "      <th>dec</th>\n",
       "      <th>sn_type</th>\n",
       "      <th>sub_type</th>\n",
       "      <th>lccoverage_flag</th>\n",
       "      <th>fitquality_flag</th>\n",
       "      <th>iau_name</th>\n",
       "      <th>frac_fitted</th>\n",
       "    </tr>\n",
       "  </thead>\n",
       "  <tbody>\n",
       "    <tr>\n",
       "      <th>0</th>\n",
       "      <td>0</td>\n",
       "      <td>ZTF17aadlxmv</td>\n",
       "      <td>0.062019</td>\n",
       "      <td>0.000013</td>\n",
       "      <td>z_gal</td>\n",
       "      <td>58878.085277</td>\n",
       "      <td>0.001126</td>\n",
       "      <td>0.459966</td>\n",
       "      <td>0.062074</td>\n",
       "      <td>0.219280</td>\n",
       "      <td>...</td>\n",
       "      <td>0.0</td>\n",
       "      <td>0.178353</td>\n",
       "      <td>127.448018</td>\n",
       "      <td>33.906536</td>\n",
       "      <td>snia-cosmo</td>\n",
       "      <td>norm</td>\n",
       "      <td>1.0</td>\n",
       "      <td>1.0</td>\n",
       "      <td>2020adv</td>\n",
       "      <td>100.0</td>\n",
       "    </tr>\n",
       "    <tr>\n",
       "      <th>1</th>\n",
       "      <td>1</td>\n",
       "      <td>ZTF18aaadqua</td>\n",
       "      <td>0.078672</td>\n",
       "      <td>0.002807</td>\n",
       "      <td>z_snid</td>\n",
       "      <td>58130.778798</td>\n",
       "      <td>0.000845</td>\n",
       "      <td>4.999999</td>\n",
       "      <td>-0.392734</td>\n",
       "      <td>14.743977</td>\n",
       "      <td>...</td>\n",
       "      <td>0.0</td>\n",
       "      <td>0.127972</td>\n",
       "      <td>26.798708</td>\n",
       "      <td>18.798611</td>\n",
       "      <td>snia-pec</td>\n",
       "      <td>03fg</td>\n",
       "      <td>0.0</td>\n",
       "      <td>0.0</td>\n",
       "      <td>2018lq</td>\n",
       "      <td>100.0</td>\n",
       "    </tr>\n",
       "    <tr>\n",
       "      <th>2</th>\n",
       "      <td>2</td>\n",
       "      <td>ZTF18aaanzph</td>\n",
       "      <td>0.063718</td>\n",
       "      <td>0.000016</td>\n",
       "      <td>z_gal</td>\n",
       "      <td>58138.014461</td>\n",
       "      <td>0.000275</td>\n",
       "      <td>-1.224903</td>\n",
       "      <td>0.567260</td>\n",
       "      <td>8.873835</td>\n",
       "      <td>...</td>\n",
       "      <td>0.0</td>\n",
       "      <td>0.576895</td>\n",
       "      <td>157.743465</td>\n",
       "      <td>23.788356</td>\n",
       "      <td>snia-cosmo</td>\n",
       "      <td>norm</td>\n",
       "      <td>0.0</td>\n",
       "      <td>0.0</td>\n",
       "      <td>2018kc</td>\n",
       "      <td>100.0</td>\n",
       "    </tr>\n",
       "    <tr>\n",
       "      <th>3</th>\n",
       "      <td>3</td>\n",
       "      <td>ZTF18aaapivw</td>\n",
       "      <td>0.026341</td>\n",
       "      <td>0.004328</td>\n",
       "      <td>z_snid</td>\n",
       "      <td>58152.873526</td>\n",
       "      <td>0.001008</td>\n",
       "      <td>-4.999998</td>\n",
       "      <td>0.660968</td>\n",
       "      <td>0.971755</td>\n",
       "      <td>...</td>\n",
       "      <td>0.0</td>\n",
       "      <td>0.249074</td>\n",
       "      <td>102.563278</td>\n",
       "      <td>27.140073</td>\n",
       "      <td>snia-cosmo</td>\n",
       "      <td>norm</td>\n",
       "      <td>0.0</td>\n",
       "      <td>0.0</td>\n",
       "      <td>2018xi</td>\n",
       "      <td>100.0</td>\n",
       "    </tr>\n",
       "    <tr>\n",
       "      <th>4</th>\n",
       "      <td>4</td>\n",
       "      <td>ZTF18aaaqexr</td>\n",
       "      <td>0.070258</td>\n",
       "      <td>0.000022</td>\n",
       "      <td>z_gal</td>\n",
       "      <td>58893.687923</td>\n",
       "      <td>0.000610</td>\n",
       "      <td>-1.437246</td>\n",
       "      <td>0.048229</td>\n",
       "      <td>0.170907</td>\n",
       "      <td>...</td>\n",
       "      <td>0.0</td>\n",
       "      <td>0.038322</td>\n",
       "      <td>175.776516</td>\n",
       "      <td>15.567129</td>\n",
       "      <td>snia</td>\n",
       "      <td>NaN</td>\n",
       "      <td>1.0</td>\n",
       "      <td>1.0</td>\n",
       "      <td>2020chl</td>\n",
       "      <td>100.0</td>\n",
       "    </tr>\n",
       "  </tbody>\n",
       "</table>\n",
       "<p>5 rows × 31 columns</p>\n",
       "</div>"
      ],
      "text/plain": [
       "   Unnamed: 0       ztfname  redshift  redshift_err  source            t0  \\\n",
       "0           0  ZTF17aadlxmv  0.062019      0.000013   z_gal  58878.085277   \n",
       "1           1  ZTF18aaadqua  0.078672      0.002807  z_snid  58130.778798   \n",
       "2           2  ZTF18aaanzph  0.063718      0.000016   z_gal  58138.014461   \n",
       "3           3  ZTF18aaapivw  0.026341      0.004328  z_snid  58152.873526   \n",
       "4           4  ZTF18aaaqexr  0.070258      0.000022   z_gal  58893.687923   \n",
       "\n",
       "         x0        x1         c     t0_err  ...  mwebv_err   fitprob  \\\n",
       "0  0.001126  0.459966  0.062074   0.219280  ...        0.0  0.178353   \n",
       "1  0.000845  4.999999 -0.392734  14.743977  ...        0.0  0.127972   \n",
       "2  0.000275 -1.224903  0.567260   8.873835  ...        0.0  0.576895   \n",
       "3  0.001008 -4.999998  0.660968   0.971755  ...        0.0  0.249074   \n",
       "4  0.000610 -1.437246  0.048229   0.170907  ...        0.0  0.038322   \n",
       "\n",
       "           ra        dec     sn_type  sub_type  lccoverage_flag  \\\n",
       "0  127.448018  33.906536  snia-cosmo      norm              1.0   \n",
       "1   26.798708  18.798611    snia-pec      03fg              0.0   \n",
       "2  157.743465  23.788356  snia-cosmo      norm              0.0   \n",
       "3  102.563278  27.140073  snia-cosmo      norm              0.0   \n",
       "4  175.776516  15.567129        snia       NaN              1.0   \n",
       "\n",
       "   fitquality_flag  iau_name  frac_fitted  \n",
       "0              1.0   2020adv        100.0  \n",
       "1              0.0    2018lq        100.0  \n",
       "2              0.0    2018kc        100.0  \n",
       "3              0.0    2018xi        100.0  \n",
       "4              1.0   2020chl        100.0  \n",
       "\n",
       "[5 rows x 31 columns]"
      ]
     },
     "execution_count": 6,
     "metadata": {},
     "output_type": "execute_result"
    }
   ],
   "source": [
    "sndata.head()"
   ]
  },
  {
   "cell_type": "code",
   "execution_count": 7,
   "id": "cffce217-088e-4e89-96ae-b70f83e8a855",
   "metadata": {},
   "outputs": [
    {
     "data": {
      "text/html": [
       "<div>\n",
       "<style scoped>\n",
       "    .dataframe tbody tr th:only-of-type {\n",
       "        vertical-align: middle;\n",
       "    }\n",
       "\n",
       "    .dataframe tbody tr th {\n",
       "        vertical-align: top;\n",
       "    }\n",
       "\n",
       "    .dataframe thead th {\n",
       "        text-align: right;\n",
       "    }\n",
       "</style>\n",
       "<table border=\"1\" class=\"dataframe\">\n",
       "  <thead>\n",
       "    <tr style=\"text-align: right;\">\n",
       "      <th></th>\n",
       "      <th>Unnamed: 0</th>\n",
       "      <th>ztfname</th>\n",
       "      <th>redshift</th>\n",
       "      <th>redshift_err</th>\n",
       "      <th>source</th>\n",
       "      <th>t0</th>\n",
       "      <th>x0</th>\n",
       "      <th>x1</th>\n",
       "      <th>c</th>\n",
       "      <th>t0_err</th>\n",
       "      <th>...</th>\n",
       "      <th>fitquality_flag</th>\n",
       "      <th>iau_name</th>\n",
       "      <th>frac_fitted</th>\n",
       "      <th>ra_host</th>\n",
       "      <th>dec_host</th>\n",
       "      <th>mass</th>\n",
       "      <th>mass_err</th>\n",
       "      <th>restframe_gz</th>\n",
       "      <th>restframe_gz_err</th>\n",
       "      <th>d_dlr</th>\n",
       "    </tr>\n",
       "  </thead>\n",
       "  <tbody>\n",
       "    <tr>\n",
       "      <th>0</th>\n",
       "      <td>0</td>\n",
       "      <td>ZTF17aadlxmv</td>\n",
       "      <td>0.062019</td>\n",
       "      <td>0.000013</td>\n",
       "      <td>z_gal</td>\n",
       "      <td>58878.085277</td>\n",
       "      <td>0.001126</td>\n",
       "      <td>0.459966</td>\n",
       "      <td>0.062074</td>\n",
       "      <td>0.219280</td>\n",
       "      <td>...</td>\n",
       "      <td>1.0</td>\n",
       "      <td>2020adv</td>\n",
       "      <td>100.0</td>\n",
       "      <td>127.448161</td>\n",
       "      <td>33.906468</td>\n",
       "      <td>10.424</td>\n",
       "      <td>0.116619</td>\n",
       "      <td>1.061697</td>\n",
       "      <td>0.018439</td>\n",
       "      <td>0.083759</td>\n",
       "    </tr>\n",
       "    <tr>\n",
       "      <th>1</th>\n",
       "      <td>1</td>\n",
       "      <td>ZTF18aaadqua</td>\n",
       "      <td>0.078672</td>\n",
       "      <td>0.002807</td>\n",
       "      <td>z_snid</td>\n",
       "      <td>58130.778798</td>\n",
       "      <td>0.000845</td>\n",
       "      <td>4.999999</td>\n",
       "      <td>-0.392734</td>\n",
       "      <td>14.743977</td>\n",
       "      <td>...</td>\n",
       "      <td>0.0</td>\n",
       "      <td>2018lq</td>\n",
       "      <td>100.0</td>\n",
       "      <td>NaN</td>\n",
       "      <td>NaN</td>\n",
       "      <td>NaN</td>\n",
       "      <td>NaN</td>\n",
       "      <td>NaN</td>\n",
       "      <td>NaN</td>\n",
       "      <td>NaN</td>\n",
       "    </tr>\n",
       "    <tr>\n",
       "      <th>2</th>\n",
       "      <td>2</td>\n",
       "      <td>ZTF18aaanzph</td>\n",
       "      <td>0.063718</td>\n",
       "      <td>0.000016</td>\n",
       "      <td>z_gal</td>\n",
       "      <td>58138.014461</td>\n",
       "      <td>0.000275</td>\n",
       "      <td>-1.224903</td>\n",
       "      <td>0.567260</td>\n",
       "      <td>8.873835</td>\n",
       "      <td>...</td>\n",
       "      <td>0.0</td>\n",
       "      <td>2018kc</td>\n",
       "      <td>100.0</td>\n",
       "      <td>157.746954</td>\n",
       "      <td>23.788548</td>\n",
       "      <td>10.996</td>\n",
       "      <td>0.123223</td>\n",
       "      <td>1.351697</td>\n",
       "      <td>0.018439</td>\n",
       "      <td>1.698443</td>\n",
       "    </tr>\n",
       "    <tr>\n",
       "      <th>3</th>\n",
       "      <td>3</td>\n",
       "      <td>ZTF18aaapivw</td>\n",
       "      <td>0.026341</td>\n",
       "      <td>0.004328</td>\n",
       "      <td>z_snid</td>\n",
       "      <td>58152.873526</td>\n",
       "      <td>0.001008</td>\n",
       "      <td>-4.999998</td>\n",
       "      <td>0.660968</td>\n",
       "      <td>0.971755</td>\n",
       "      <td>...</td>\n",
       "      <td>0.0</td>\n",
       "      <td>2018xi</td>\n",
       "      <td>100.0</td>\n",
       "      <td>102.564481</td>\n",
       "      <td>27.141323</td>\n",
       "      <td>8.515</td>\n",
       "      <td>0.103325</td>\n",
       "      <td>0.591697</td>\n",
       "      <td>0.046861</td>\n",
       "      <td>2.969719</td>\n",
       "    </tr>\n",
       "    <tr>\n",
       "      <th>4</th>\n",
       "      <td>4</td>\n",
       "      <td>ZTF18aaaqexr</td>\n",
       "      <td>0.070258</td>\n",
       "      <td>0.000022</td>\n",
       "      <td>z_gal</td>\n",
       "      <td>58893.687923</td>\n",
       "      <td>0.000610</td>\n",
       "      <td>-1.437246</td>\n",
       "      <td>0.048229</td>\n",
       "      <td>0.170907</td>\n",
       "      <td>...</td>\n",
       "      <td>1.0</td>\n",
       "      <td>2020chl</td>\n",
       "      <td>100.0</td>\n",
       "      <td>175.776562</td>\n",
       "      <td>15.566957</td>\n",
       "      <td>10.774</td>\n",
       "      <td>0.117661</td>\n",
       "      <td>1.211697</td>\n",
       "      <td>0.018439</td>\n",
       "      <td>0.102694</td>\n",
       "    </tr>\n",
       "  </tbody>\n",
       "</table>\n",
       "<p>5 rows × 38 columns</p>\n",
       "</div>"
      ],
      "text/plain": [
       "   Unnamed: 0       ztfname  redshift  redshift_err  source            t0  \\\n",
       "0           0  ZTF17aadlxmv  0.062019      0.000013   z_gal  58878.085277   \n",
       "1           1  ZTF18aaadqua  0.078672      0.002807  z_snid  58130.778798   \n",
       "2           2  ZTF18aaanzph  0.063718      0.000016   z_gal  58138.014461   \n",
       "3           3  ZTF18aaapivw  0.026341      0.004328  z_snid  58152.873526   \n",
       "4           4  ZTF18aaaqexr  0.070258      0.000022   z_gal  58893.687923   \n",
       "\n",
       "         x0        x1         c     t0_err  ...  fitquality_flag  iau_name  \\\n",
       "0  0.001126  0.459966  0.062074   0.219280  ...              1.0   2020adv   \n",
       "1  0.000845  4.999999 -0.392734  14.743977  ...              0.0    2018lq   \n",
       "2  0.000275 -1.224903  0.567260   8.873835  ...              0.0    2018kc   \n",
       "3  0.001008 -4.999998  0.660968   0.971755  ...              0.0    2018xi   \n",
       "4  0.000610 -1.437246  0.048229   0.170907  ...              1.0   2020chl   \n",
       "\n",
       "   frac_fitted     ra_host   dec_host    mass  mass_err  restframe_gz  \\\n",
       "0        100.0  127.448161  33.906468  10.424  0.116619      1.061697   \n",
       "1        100.0         NaN        NaN     NaN       NaN           NaN   \n",
       "2        100.0  157.746954  23.788548  10.996  0.123223      1.351697   \n",
       "3        100.0  102.564481  27.141323   8.515  0.103325      0.591697   \n",
       "4        100.0  175.776562  15.566957  10.774  0.117661      1.211697   \n",
       "\n",
       "   restframe_gz_err     d_dlr  \n",
       "0          0.018439  0.083759  \n",
       "1               NaN       NaN  \n",
       "2          0.018439  1.698443  \n",
       "3          0.046861  2.969719  \n",
       "4          0.018439  0.102694  \n",
       "\n",
       "[5 rows x 38 columns]"
      ]
     },
     "execution_count": 7,
     "metadata": {},
     "output_type": "execute_result"
    }
   ],
   "source": [
    "data = pd.merge(sndata,globalhostdata,on='ztfname')\n",
    "data.head()"
   ]
  },
  {
   "cell_type": "code",
   "execution_count": 8,
   "id": "852980a3-28df-4845-a754-9f929d9d7c32",
   "metadata": {},
   "outputs": [
    {
     "data": {
      "text/plain": [
       "Index(['Unnamed: 0', 'ztfname', 'redshift', 'redshift_err', 'source', 't0',\n",
       "       'x0', 'x1', 'c', 't0_err', 'x0_err', 'x1_err', 'c_err', 'cov_t0_x0',\n",
       "       'cov_t0_x1', 'cov_t0_c', 'cov_x0_x1', 'cov_x0_c', 'cov_x1_c', 'mwebv',\n",
       "       'mwr_v', 'mwebv_err', 'fitprob', 'ra', 'dec', 'sn_type', 'sub_type',\n",
       "       'lccoverage_flag', 'fitquality_flag', 'iau_name', 'frac_fitted',\n",
       "       'ra_host', 'dec_host', 'mass', 'mass_err', 'restframe_gz',\n",
       "       'restframe_gz_err', 'd_dlr'],\n",
       "      dtype='object')"
      ]
     },
     "execution_count": 8,
     "metadata": {},
     "output_type": "execute_result"
    }
   ],
   "source": [
    "data.columns"
   ]
  },
  {
   "cell_type": "code",
   "execution_count": 9,
   "id": "dca2a245-1593-481c-84c8-3265a69b1b53",
   "metadata": {},
   "outputs": [
    {
     "data": {
      "text/html": [
       "<div>\n",
       "<style scoped>\n",
       "    .dataframe tbody tr th:only-of-type {\n",
       "        vertical-align: middle;\n",
       "    }\n",
       "\n",
       "    .dataframe tbody tr th {\n",
       "        vertical-align: top;\n",
       "    }\n",
       "\n",
       "    .dataframe thead th {\n",
       "        text-align: right;\n",
       "    }\n",
       "</style>\n",
       "<table border=\"1\" class=\"dataframe\">\n",
       "  <thead>\n",
       "    <tr style=\"text-align: right;\">\n",
       "      <th></th>\n",
       "      <th>mass</th>\n",
       "      <th>x1</th>\n",
       "      <th>c</th>\n",
       "    </tr>\n",
       "  </thead>\n",
       "  <tbody>\n",
       "    <tr>\n",
       "      <th>0</th>\n",
       "      <td>10.424</td>\n",
       "      <td>0.459966</td>\n",
       "      <td>0.062074</td>\n",
       "    </tr>\n",
       "    <tr>\n",
       "      <th>1</th>\n",
       "      <td>NaN</td>\n",
       "      <td>4.999999</td>\n",
       "      <td>-0.392734</td>\n",
       "    </tr>\n",
       "    <tr>\n",
       "      <th>2</th>\n",
       "      <td>10.996</td>\n",
       "      <td>-1.224903</td>\n",
       "      <td>0.567260</td>\n",
       "    </tr>\n",
       "    <tr>\n",
       "      <th>3</th>\n",
       "      <td>8.515</td>\n",
       "      <td>-4.999998</td>\n",
       "      <td>0.660968</td>\n",
       "    </tr>\n",
       "    <tr>\n",
       "      <th>4</th>\n",
       "      <td>10.774</td>\n",
       "      <td>-1.437246</td>\n",
       "      <td>0.048229</td>\n",
       "    </tr>\n",
       "    <tr>\n",
       "      <th>...</th>\n",
       "      <td>...</td>\n",
       "      <td>...</td>\n",
       "      <td>...</td>\n",
       "    </tr>\n",
       "    <tr>\n",
       "      <th>3623</th>\n",
       "      <td>10.620</td>\n",
       "      <td>-0.820927</td>\n",
       "      <td>-0.125119</td>\n",
       "    </tr>\n",
       "    <tr>\n",
       "      <th>3624</th>\n",
       "      <td>9.818</td>\n",
       "      <td>0.985630</td>\n",
       "      <td>0.088372</td>\n",
       "    </tr>\n",
       "    <tr>\n",
       "      <th>3625</th>\n",
       "      <td>10.378</td>\n",
       "      <td>5.000000</td>\n",
       "      <td>-0.352244</td>\n",
       "    </tr>\n",
       "    <tr>\n",
       "      <th>3626</th>\n",
       "      <td>10.728</td>\n",
       "      <td>-0.264331</td>\n",
       "      <td>0.199896</td>\n",
       "    </tr>\n",
       "    <tr>\n",
       "      <th>3627</th>\n",
       "      <td>9.835</td>\n",
       "      <td>2.264104</td>\n",
       "      <td>0.136763</td>\n",
       "    </tr>\n",
       "  </tbody>\n",
       "</table>\n",
       "<p>3628 rows × 3 columns</p>\n",
       "</div>"
      ],
      "text/plain": [
       "        mass        x1         c\n",
       "0     10.424  0.459966  0.062074\n",
       "1        NaN  4.999999 -0.392734\n",
       "2     10.996 -1.224903  0.567260\n",
       "3      8.515 -4.999998  0.660968\n",
       "4     10.774 -1.437246  0.048229\n",
       "...      ...       ...       ...\n",
       "3623  10.620 -0.820927 -0.125119\n",
       "3624   9.818  0.985630  0.088372\n",
       "3625  10.378  5.000000 -0.352244\n",
       "3626  10.728 -0.264331  0.199896\n",
       "3627   9.835  2.264104  0.136763\n",
       "\n",
       "[3628 rows x 3 columns]"
      ]
     },
     "execution_count": 9,
     "metadata": {},
     "output_type": "execute_result"
    }
   ],
   "source": [
    "data_train = data[['mass','x1','c']]\n",
    "data_train"
   ]
  },
  {
   "cell_type": "code",
   "execution_count": 10,
   "id": "8bd71cf2-4d2c-4288-8a16-5e8e204f677b",
   "metadata": {},
   "outputs": [
    {
     "data": {
      "text/html": [
       "<div>\n",
       "<style scoped>\n",
       "    .dataframe tbody tr th:only-of-type {\n",
       "        vertical-align: middle;\n",
       "    }\n",
       "\n",
       "    .dataframe tbody tr th {\n",
       "        vertical-align: top;\n",
       "    }\n",
       "\n",
       "    .dataframe thead th {\n",
       "        text-align: right;\n",
       "    }\n",
       "</style>\n",
       "<table border=\"1\" class=\"dataframe\">\n",
       "  <thead>\n",
       "    <tr style=\"text-align: right;\">\n",
       "      <th></th>\n",
       "      <th>mass</th>\n",
       "      <th>x1</th>\n",
       "      <th>c</th>\n",
       "    </tr>\n",
       "  </thead>\n",
       "  <tbody>\n",
       "    <tr>\n",
       "      <th>0</th>\n",
       "      <td>10.424</td>\n",
       "      <td>0.459966</td>\n",
       "      <td>0.062074</td>\n",
       "    </tr>\n",
       "    <tr>\n",
       "      <th>2</th>\n",
       "      <td>10.996</td>\n",
       "      <td>-1.224903</td>\n",
       "      <td>0.567260</td>\n",
       "    </tr>\n",
       "    <tr>\n",
       "      <th>3</th>\n",
       "      <td>8.515</td>\n",
       "      <td>-4.999998</td>\n",
       "      <td>0.660968</td>\n",
       "    </tr>\n",
       "    <tr>\n",
       "      <th>4</th>\n",
       "      <td>10.774</td>\n",
       "      <td>-1.437246</td>\n",
       "      <td>0.048229</td>\n",
       "    </tr>\n",
       "    <tr>\n",
       "      <th>6</th>\n",
       "      <td>9.870</td>\n",
       "      <td>4.999980</td>\n",
       "      <td>1.008026</td>\n",
       "    </tr>\n",
       "    <tr>\n",
       "      <th>...</th>\n",
       "      <td>...</td>\n",
       "      <td>...</td>\n",
       "      <td>...</td>\n",
       "    </tr>\n",
       "    <tr>\n",
       "      <th>3623</th>\n",
       "      <td>10.620</td>\n",
       "      <td>-0.820927</td>\n",
       "      <td>-0.125119</td>\n",
       "    </tr>\n",
       "    <tr>\n",
       "      <th>3624</th>\n",
       "      <td>9.818</td>\n",
       "      <td>0.985630</td>\n",
       "      <td>0.088372</td>\n",
       "    </tr>\n",
       "    <tr>\n",
       "      <th>3625</th>\n",
       "      <td>10.378</td>\n",
       "      <td>5.000000</td>\n",
       "      <td>-0.352244</td>\n",
       "    </tr>\n",
       "    <tr>\n",
       "      <th>3626</th>\n",
       "      <td>10.728</td>\n",
       "      <td>-0.264331</td>\n",
       "      <td>0.199896</td>\n",
       "    </tr>\n",
       "    <tr>\n",
       "      <th>3627</th>\n",
       "      <td>9.835</td>\n",
       "      <td>2.264104</td>\n",
       "      <td>0.136763</td>\n",
       "    </tr>\n",
       "  </tbody>\n",
       "</table>\n",
       "<p>3483 rows × 3 columns</p>\n",
       "</div>"
      ],
      "text/plain": [
       "        mass        x1         c\n",
       "0     10.424  0.459966  0.062074\n",
       "2     10.996 -1.224903  0.567260\n",
       "3      8.515 -4.999998  0.660968\n",
       "4     10.774 -1.437246  0.048229\n",
       "6      9.870  4.999980  1.008026\n",
       "...      ...       ...       ...\n",
       "3623  10.620 -0.820927 -0.125119\n",
       "3624   9.818  0.985630  0.088372\n",
       "3625  10.378  5.000000 -0.352244\n",
       "3626  10.728 -0.264331  0.199896\n",
       "3627   9.835  2.264104  0.136763\n",
       "\n",
       "[3483 rows x 3 columns]"
      ]
     },
     "execution_count": 10,
     "metadata": {},
     "output_type": "execute_result"
    }
   ],
   "source": [
    "data_train = data_train.dropna()\n",
    "data_train"
   ]
  },
  {
   "cell_type": "code",
   "execution_count": 11,
   "id": "18ab9634-171c-4a70-ad37-b1bcafea4623",
   "metadata": {},
   "outputs": [],
   "source": [
    "flow = Flow(data_train.columns)"
   ]
  },
  {
   "cell_type": "code",
   "execution_count": 12,
   "id": "74e3211b-ed04-4ef7-bb0f-71707189b5aa",
   "metadata": {},
   "outputs": [
    {
     "name": "stdout",
     "output_type": "stream",
     "text": [
      "Training 100 epochs \n",
      "Loss:\n",
      "(0) 5.4856\n",
      "(1) 4.8619\n",
      "(6) 3.2136\n",
      "(11) 2.8548\n",
      "(16) 2.5374\n",
      "(21) 2.4045\n",
      "(26) 2.2826\n",
      "(31) 2.2328\n",
      "(36) 2.1949\n",
      "(41) 2.1872\n",
      "(46) 2.1887\n",
      "(51) 2.1483\n",
      "(56) 2.1459\n",
      "(61) 2.1351\n",
      "(66) 2.1122\n",
      "(71) 2.1087\n",
      "(76) 2.0975\n",
      "(81) 2.0899\n",
      "(86) 2.0901\n",
      "(91) 2.0714\n",
      "(96) 2.1086\n",
      "(100) 2.0697\n"
     ]
    }
   ],
   "source": [
    "losses = flow.train(data_train, verbose=True)"
   ]
  },
  {
   "cell_type": "code",
   "execution_count": 13,
   "id": "3afd3b25-4fe5-45b4-b1e3-f16c2de19643",
   "metadata": {},
   "outputs": [
    {
     "data": {
      "image/png": "[encoded data removed]",
      "text/plain": [
       "<Figure size 640x480 with 1 Axes>"
      ]
     },
     "metadata": {},
     "output_type": "display_data"
    }
   ],
   "source": [
    "plt.plot(losses)\n",
    "plt.xlabel(\"Epoch\")\n",
    "plt.ylabel(\"Training loss\")\n",
    "plt.show()"
   ]
  },
  {
   "cell_type": "code",
   "execution_count": 14,
   "id": "a5021371-c2e4-48ec-81a5-95e4488e6377",
   "metadata": {},
   "outputs": [],
   "source": [
    "flow.save(\"data/ztfsniadr2_host_sn_pzflow.pkl\")"
   ]
  },
  {
   "cell_type": "code",
   "execution_count": 15,
   "id": "c38db799-3de6-40cd-be94-1f5015871209",
   "metadata": {},
   "outputs": [],
   "source": [
    "flow = Flow(file=\"data/ztfsniadr2_host_sn_pzflow.pkl\")"
   ]
  },
  {
   "cell_type": "code",
   "execution_count": 16,
   "id": "91ae99dd-d0a0-44e0-88e0-5c496f2df34c",
   "metadata": {},
   "outputs": [],
   "source": [
    "samples = flow.sample(100000)"
   ]
  },
  {
   "cell_type": "code",
   "execution_count": 17,
   "id": "20d346be-e8d2-4860-bb81-4622196cd295",
   "metadata": {},
   "outputs": [
    {
     "data": {
      "text/plain": [
       "<Axes: >"
      ]
     },
     "execution_count": 17,
     "metadata": {},
     "output_type": "execute_result"
    },
    {
     "data": {
      "image/png": "[encoded data removed]",
      "text/plain": [
       "<Figure size 640x480 with 1 Axes>"
      ]
     },
     "metadata": {},
     "output_type": "display_data"
    }
   ],
   "source": [
    "samples.x1.hist(bins=20,alpha=0.3,density=True)\n",
    "data_train.x1.hist(bins=20,alpha=0.3,density=True)"
   ]
  },
  {
   "cell_type": "code",
   "execution_count": 18,
   "id": "0d1a3d3c-dd93-45be-9b22-ef14fda9bdde",
   "metadata": {},
   "outputs": [
    {
     "data": {
      "text/plain": [
       "<Axes: >"
      ]
     },
     "execution_count": 18,
     "metadata": {},
     "output_type": "execute_result"
    },
    {
     "data": {
      "image/png": "[encoded data removed]",
      "text/plain": [
       "<Figure size 640x480 with 1 Axes>"
      ]
     },
     "metadata": {},
     "output_type": "display_data"
    }
   ],
   "source": [
    "samples.c.hist(bins=20,alpha=0.3,density=True)\n",
    "data_train.c.hist(bins=20,alpha=0.3,density=True)"
   ]
  },
  {
   "cell_type": "code",
   "execution_count": 19,
   "id": "64c328cf-63b3-4066-867f-e214824d0f6d",
   "metadata": {},
   "outputs": [
    {
     "data": {
      "text/plain": [
       "<matplotlib.collections.PathCollection at 0x2bfaf2710>"
      ]
     },
     "execution_count": 19,
     "metadata": {},
     "output_type": "execute_result"
    },
    {
     "data": {
      "image/png": "[encoded data removed]",
      "text/plain": [
       "<Figure size 640x480 with 1 Axes>"
      ]
     },
     "metadata": {},
     "output_type": "display_data"
    }
   ],
   "source": [
    "plt.scatter(samples['x1'],samples['c'])"
   ]
  },
  {
   "cell_type": "code",
   "execution_count": 20,
   "id": "edabc056-d953-49b0-8fbe-43ea17adfe9c",
   "metadata": {},
   "outputs": [],
   "source": [
    "cov = np.cov(samples['x1'],samples['c'])"
   ]
  },
  {
   "cell_type": "code",
   "execution_count": 21,
   "id": "60f86177-5c49-4680-aed4-eae48424d5fe",
   "metadata": {},
   "outputs": [
    {
     "data": {
      "text/plain": [
       "array([[ 2.13104699, -0.01535161],\n",
       "       [-0.01535161,  0.04137018]])"
      ]
     },
     "execution_count": 21,
     "metadata": {},
     "output_type": "execute_result"
    }
   ],
   "source": [
    "cov"
   ]
  },
  {
   "cell_type": "code",
   "execution_count": 22,
   "id": "edd26892-6f03-4657-afb1-94e83c83651d",
   "metadata": {},
   "outputs": [],
   "source": [
    "fx1_arr = np.loadtxt('data/ztf_selection_func_x1.txt')\n",
    "fc_arr = np.loadtxt('data/ztf_selection_func_c.txt')"
   ]
  },
  {
   "cell_type": "code",
   "execution_count": 23,
   "id": "5ff5ccaa-e07e-4892-b0f5-ac9d5b50446b",
   "metadata": {},
   "outputs": [],
   "source": [
    "binwidth_x1 = fx1_arr[0][1]-fx1_arr[0][0]\n",
    "binwidth_c = fc_arr[0][1]-fc_arr[0][0]\n",
    "\n",
    "bins_x1 = np.append((fx1_arr[0]-0.5*binwidth_x1), fx1_arr[0][-1]+0.5*binwidth_x1)\n",
    "bins_c = np.append((fc_arr[0]-0.5*binwidth_c), fc_arr[0][-1]+0.5*binwidth_c)\n",
    "\n",
    "x1_binned_pdf,x1_bin_edges = np.histogram(samples['x1'],bins=bins_x1)\n",
    "c_binned_pdf,c_bin_edges = np.histogram(samples['c'],bins=bins_c)\n",
    "\n",
    "x1_binned_pdf_modified = x1_binned_pdf/fx1_arr[1]\n",
    "c_binned_pdf_modified = c_binned_pdf/fc_arr[1]"
   ]
  },
  {
   "cell_type": "code",
   "execution_count": 24,
   "id": "b06d23a2-8ce0-4a1a-b40a-9bf4d80454ea",
   "metadata": {},
   "outputs": [
    {
     "data": {
      "text/plain": [
       "<BarContainer object of 19 artists>"
      ]
     },
     "execution_count": 24,
     "metadata": {},
     "output_type": "execute_result"
    },
    {
     "data": {
      "image/png": "[encoded data removed]",
      "text/plain": [
       "<Figure size 640x480 with 1 Axes>"
      ]
     },
     "metadata": {},
     "output_type": "display_data"
    }
   ],
   "source": [
    "plt.bar(0.5*(x1_bin_edges[:-1]+x1_bin_edges[1:]),x1_binned_pdf/np.sum(x1_binned_pdf)/binwidth_x1,alpha=0.3,width=binwidth_x1)\n",
    "plt.bar(0.5*(x1_bin_edges[:-1]+x1_bin_edges[1:]),x1_binned_pdf_modified/np.sum(x1_binned_pdf_modified)/binwidth_x1,alpha=0.3,width=binwidth_x1)\n"
   ]
  },
  {
   "cell_type": "code",
   "execution_count": 25,
   "id": "295a9873-b33d-4f27-bdd9-7db4b021849d",
   "metadata": {},
   "outputs": [
    {
     "data": {
      "text/plain": [
       "<BarContainer object of 19 artists>"
      ]
     },
     "execution_count": 25,
     "metadata": {},
     "output_type": "execute_result"
    },
    {
     "data": {
      "image/png": "[encoded data removed]",
      "text/plain": [
       "<Figure size 640x480 with 1 Axes>"
      ]
     },
     "metadata": {},
     "output_type": "display_data"
    }
   ],
   "source": [
    "plt.bar(0.5*(c_bin_edges[:-1]+c_bin_edges[1:]),c_binned_pdf/np.sum(c_binned_pdf)/binwidth_c,alpha=0.3,width=binwidth_c)\n",
    "plt.bar(0.5*(c_bin_edges[:-1]+c_bin_edges[1:]),c_binned_pdf_modified/np.sum(c_binned_pdf_modified)/binwidth_c,alpha=0.3,width=binwidth_c)"
   ]
  },
  {
   "cell_type": "code",
   "execution_count": 26,
   "id": "9c93d4a4-4dc8-490b-b907-042ba2b7cd19",
   "metadata": {},
   "outputs": [],
   "source": [
    "x1_pdf = interp1d(fx1_arr[0],x1_binned_pdf_modified,fill_value=[0.],bounds_error=False)\n",
    "c_pdf = interp1d(fc_arr[0],c_binned_pdf_modified,fill_value=[0.],bounds_error=False)"
   ]
  },
  {
   "cell_type": "code",
   "execution_count": 27,
   "id": "b7d35c70-c2ae-4d2c-8401-599af890d9b6",
   "metadata": {},
   "outputs": [],
   "source": [
    "class x1distr:\n",
    "   def pdf(self, x):\n",
    "       return x1_pdf(x)"
   ]
  },
  {
   "cell_type": "code",
   "execution_count": 28,
   "id": "92f23cc8-55b8-4d3c-921e-de8a7d542767",
   "metadata": {},
   "outputs": [],
   "source": [
    "class cdistr:\n",
    "   def pdf(self, x):\n",
    "       return c_pdf(x)"
   ]
  },
  {
   "cell_type": "code",
   "execution_count": 29,
   "id": "46d8d5ae-b3a2-4680-9ed3-854ecbda9edf",
   "metadata": {},
   "outputs": [],
   "source": [
    "urng = np.random.default_rng()\n",
    "\n",
    "dist = x1distr()\n",
    "rng = NumericalInversePolynomial(dist, random_state=urng)\n",
    "x1 = rng.rvs(100000)\n",
    "\n",
    "dist = cdistr()\n",
    "rng = NumericalInversePolynomial(dist, random_state=urng)\n",
    "c = rng.rvs(100000)"
   ]
  },
  {
   "cell_type": "code",
   "execution_count": 30,
   "id": "dd1e4639-45f7-47ec-8148-5796524f3175",
   "metadata": {},
   "outputs": [
    {
     "name": "stdout",
     "output_type": "stream",
     "text": [
      "Training 100 epochs \n",
      "Loss:\n",
      "(0) 2.1573\n",
      "(1) 2.0241\n",
      "(6) 1.6596\n",
      "(11) 1.4402\n",
      "(16) 1.2849\n",
      "(21) 1.1976\n",
      "(26) 1.1516\n",
      "(31) 1.1413\n",
      "(36) 1.1192\n",
      "(41) 1.1070\n",
      "(46) 1.0951\n",
      "(51) 1.0966\n",
      "(56) 1.0928\n",
      "(61) 1.0859\n",
      "(66) 1.0842\n",
      "(71) 1.0946\n",
      "(76) 1.0778\n",
      "(81) 1.0719\n",
      "(86) 1.0816\n",
      "(91) 1.0727\n",
      "(96) 1.0819\n",
      "(100) 1.0678\n"
     ]
    },
    {
     "data": {
      "image/png": "[encoded data removed]",
      "text/plain": [
       "<Figure size 640x480 with 1 Axes>"
      ]
     },
     "metadata": {},
     "output_type": "display_data"
    }
   ],
   "source": [
    "flow_cond = Flow(data_columns=[\"mass\"], conditional_columns=[\"x1\",\"c\"])\n",
    "losses = flow_cond.train(data_train, verbose=True)\n",
    "plt.plot(losses)\n",
    "plt.xlabel(\"Epoch\")\n",
    "plt.ylabel(\"Training loss\")\n",
    "plt.show()"
   ]
  },
  {
   "cell_type": "code",
   "execution_count": 31,
   "id": "5a9fe359-ebcb-41c5-9bfc-6e8015b85f96",
   "metadata": {},
   "outputs": [],
   "source": [
    "df = pd.DataFrame({\"x1\":x1,\"c\":c})\n",
    "samples_cond = flow_cond.sample(1, conditions=df)"
   ]
  },
  {
   "cell_type": "code",
   "execution_count": 32,
   "id": "f42e91a9-39d6-401d-857e-31663af9efa9",
   "metadata": {},
   "outputs": [
    {
     "data": {
      "text/plain": [
       "<Axes: >"
      ]
     },
     "execution_count": 32,
     "metadata": {},
     "output_type": "execute_result"
    },
    {
     "data": {
      "image/png": "[encoded data removed]",
      "text/plain": [
       "<Figure size 640x480 with 1 Axes>"
      ]
     },
     "metadata": {},
     "output_type": "display_data"
    }
   ],
   "source": [
    "samples_cond.x1.hist(bins=20,alpha=0.3,density=True)\n",
    "data_train.x1.hist(bins=20,alpha=0.3,density=True)"
   ]
  },
  {
   "cell_type": "code",
   "execution_count": 33,
   "id": "ac6d2230-26b3-4da7-ab00-1c99d809075a",
   "metadata": {},
   "outputs": [
    {
     "data": {
      "text/plain": [
       "<Axes: >"
      ]
     },
     "execution_count": 33,
     "metadata": {},
     "output_type": "execute_result"
    },
    {
     "data": {
      "image/png": "[encoded data removed]",
      "text/plain": [
       "<Figure size 640x480 with 1 Axes>"
      ]
     },
     "metadata": {},
     "output_type": "display_data"
    }
   ],
   "source": [
    "samples_cond.c.hist(bins=20,alpha=0.3,density=True)\n",
    "data_train.c.hist(bins=20,alpha=0.3,density=True)"
   ]
  },
  {
   "cell_type": "code",
   "execution_count": 34,
   "id": "931114a8-5ef0-439d-ad34-b0f27a188c5a",
   "metadata": {},
   "outputs": [
    {
     "name": "stdout",
     "output_type": "stream",
     "text": [
      "Training 100 epochs \n",
      "Loss:\n",
      "(0) 5.1798\n",
      "(1) 2.3519\n",
      "(6) 2.1587\n",
      "(11) 2.1525\n",
      "(16) 2.1494\n",
      "(21) 2.1462\n",
      "(26) 2.1908\n",
      "(31) 2.1376\n",
      "(36) 2.1328\n",
      "(41) 2.1331\n",
      "(46) 2.1304\n",
      "(51) 2.1309\n",
      "(56) 2.1338\n",
      "(61) 2.1275\n",
      "(66) 2.1273\n",
      "(71) 2.1278\n",
      "(76) 2.1276\n",
      "(81) 2.1349\n",
      "(86) 2.1247\n",
      "(91) 2.1320\n",
      "(96) 2.1292\n",
      "(100) 2.1246\n"
     ]
    },
    {
     "data": {
      "image/png": "[encoded data removed]",
      "text/plain": [
       "<Figure size 640x480 with 1 Axes>"
      ]
     },
     "metadata": {},
     "output_type": "display_data"
    }
   ],
   "source": [
    "flow_before_selection = Flow(samples_cond.columns)\n",
    "losses = flow_before_selection.train(samples_cond, verbose=True)\n",
    "plt.plot(losses)\n",
    "plt.xlabel(\"Epoch\")\n",
    "plt.ylabel(\"Training loss\")\n",
    "plt.show()"
   ]
  },
  {
   "cell_type": "code",
   "execution_count": 35,
   "id": "735ea42b-01e1-417a-89e8-9e986ec1e3b2",
   "metadata": {},
   "outputs": [],
   "source": [
    "flow_before_selection.save(\"data/ztfsniadr2_host_sn_before_selection_pzflow.pkl\")"
   ]
  },
  {
   "cell_type": "code",
   "execution_count": 36,
   "id": "cdb095a4-5ac5-426d-a684-a7a94177ed4e",
   "metadata": {},
   "outputs": [],
   "source": [
    "flow = Flow(file=\"data/ztfsniadr2_host_sn_before_selection_pzflow.pkl\")"
   ]
  },
  {
   "cell_type": "code",
   "execution_count": 37,
   "id": "c415fdb4-2685-45e8-b746-e66c7871c2c4",
   "metadata": {},
   "outputs": [],
   "source": [
    "samples = flow.sample(1000)"
   ]
  },
  {
   "cell_type": "code",
   "execution_count": 38,
   "id": "f17f488e-cccd-4f79-a00b-26c9a5bf324d",
   "metadata": {},
   "outputs": [
    {
     "data": {
      "text/plain": [
       "<Axes: >"
      ]
     },
     "execution_count": 38,
     "metadata": {},
     "output_type": "execute_result"
    },
    {
     "data": {
      "image/png": "[encoded data removed]",
      "text/plain": [
       "<Figure size 640x480 with 1 Axes>"
      ]
     },
     "metadata": {},
     "output_type": "display_data"
    }
   ],
   "source": [
    "samples.x1.hist(bins=20,alpha=0.3,density=True)\n",
    "data_train.x1.hist(bins=20,alpha=0.3,density=True)"
   ]
  },
  {
   "cell_type": "code",
   "execution_count": 39,
   "id": "9b9cb8b6-86f9-4f95-abd5-bc8bbaa78e96",
   "metadata": {},
   "outputs": [
    {
     "data": {
      "text/plain": [
       "<Axes: >"
      ]
     },
     "execution_count": 39,
     "metadata": {},
     "output_type": "execute_result"
    },
    {
     "data": {
      "image/png": "[encoded data removed]",
      "text/plain": [
       "<Figure size 640x480 with 1 Axes>"
      ]
     },
     "metadata": {},
     "output_type": "display_data"
    }
   ],
   "source": [
    "samples.c.hist(bins=20,alpha=0.3,density=True)\n",
    "data_train.c.hist(bins=20,alpha=0.3,density=True)"
   ]
  },
  {
   "cell_type": "code",
   "execution_count": null,
   "id": "4d2e1a49-3978-47d1-977d-1dd47a90b998",
   "metadata": {},
   "outputs": [],
   "source": []
  }
 ],
 "metadata": {
  "kernelspec": {
   "display_name": "tdastro",
   "language": "python",
   "name": "tdastro"
  },
  "language_info": {
   "codemirror_mode": {
    "name": "ipython",
    "version": 3
   },
   "file_extension": ".py",
   "mimetype": "text/x-python",
   "name": "python",
   "nbconvert_exporter": "python",
   "pygments_lexer": "ipython3",
   "version": "3.11.9"
  }
 },
 "nbformat": 4,
 "nbformat_minor": 5
}
