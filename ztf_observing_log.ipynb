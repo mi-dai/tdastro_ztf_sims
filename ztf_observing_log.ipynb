{
 "cells": [
  {
   "cell_type": "code",
   "execution_count": 1,
   "id": "52ccaa0a-d5fa-4923-a5a8-b0fd2a5fe70b",
   "metadata": {},
   "outputs": [],
   "source": [
    "import numpy as np\n",
    "import pandas as pd\n",
    "import matplotlib.pyplot as plt\n",
    "from tdastro.opsim.ztf_opsim import ZTFOpsim, _ztfcam_ccd_gain\n",
    "from tdastro.astro_utils.mag_flux import mag2flux"
   ]
  },
  {
   "cell_type": "code",
   "execution_count": 2,
   "id": "28c4f060-31e0-4793-90a7-12218267e939",
   "metadata": {},
   "outputs": [
    {
     "name": "stderr",
     "output_type": "stream",
     "text": [
      "/Users/mi/Work/tdastro/tdastro/src/tdastro/opsim/ztf_opsim.py:170: FutureWarning: Downcasting behavior in `replace` is deprecated and will be removed in a future version. To retain the old behavior, explicitly call `result.infer_objects(copy=False)`. To opt-in to the future behavior, set `pd.set_option('future.no_silent_downcasting', True)`\n",
      "  self.table = self.table.replace(\"\", np.nan)\n"
     ]
    }
   ],
   "source": [
    "opsim_db = ZTFOpsim.from_db(\"data/ztf_metadata_latest.db\")\n",
    "obs_log = pd.read_parquet('ztfsniadr2/tables/observing_logs.parquet')\n",
    "obs_log = obs_log.drop_duplicates(\"expid\")\n",
    "obs_log[\"filter\"] = obs_log.apply(lambda row: row[\"band\"][-1],axis=1)\n",
    "obs_log = pd.merge(obs_log, opsim_db.table[[\"expid\",\"filter\",\"exptime\",\"fwhm\",\"obsmjd\",\"obsdate\",\"scibckgnd\",\"ra\",\"dec\"]],on=[\"filter\",\"expid\"])\n",
    "gain = _ztfcam_ccd_gain\n",
    "obs_log[\"zp_nJy\"] = mag2flux(obs_log[\"zp\"].values + 2.5*np.log10(gain))"
   ]
  },
  {
   "cell_type": "code",
   "execution_count": 3,
   "id": "6d325746-8400-4b6e-9f77-b62f94e0c91f",
   "metadata": {},
   "outputs": [],
   "source": [
    "obs_log.to_parquet(\"data/ztf_observing_log_combined_w_metadata.parquet\")"
   ]
  },
  {
   "cell_type": "code",
   "execution_count": null,
   "id": "30b91405-d509-48b2-a9c4-d4069034b46d",
   "metadata": {},
   "outputs": [],
   "source": []
  }
 ],
 "metadata": {
  "kernelspec": {
   "display_name": "tdastro",
   "language": "python",
   "name": "tdastro"
  },
  "language_info": {
   "codemirror_mode": {
    "name": "ipython",
    "version": 3
   },
   "file_extension": ".py",
   "mimetype": "text/x-python",
   "name": "python",
   "nbconvert_exporter": "python",
   "pygments_lexer": "ipython3",
   "version": "3.11.13"
  }
 },
 "nbformat": 4,
 "nbformat_minor": 5
}
